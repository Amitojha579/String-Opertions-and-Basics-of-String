{
 "cells": [
  {
   "cell_type": "markdown",
   "id": "92aba90f",
   "metadata": {},
   "source": [
    "# Strings or str\n",
    "str is a collections of one or more characters enclosed in a single, double or tripple quotes/ inverted commas.\n",
    "Every charcters within a str is treated as a unicode characters and we call then elements as well.\n",
    "        Ex - 'Blindspot' , \"Blindspot\" , '''Blindspot''' , \"\"\"Blindspot\"\"\"."
   ]
  },
  {
   "cell_type": "markdown",
   "id": "6bf156d3",
   "metadata": {},
   "source": [
    "If a str contains '' or \"\" or '\\' there is a quite possibility that the string also have any of these signs as well and in that case we proceede with another back slash '\\'.\n",
    "        Ex - \"He said \\ 'Let us Python \\'\".\n",
    "        r\"He said, Let us Python'\"\n",
    "If we doesnt want to use a backslash(\\) in that case starting a str with 'r' the begining will do the work."
   ]
  },
  {
   "cell_type": "markdown",
   "id": "00ca90e3",
   "metadata": {},
   "source": [
    "<h2 style=\"color:Pink\"> Multiline String </h2>\n",
    "\n",
    "All but the last line ends with a backslash'\\' enclosed within a double inverted commas or a triple inverted commas.\n",
    "        Ex - \" Amit likes to wirte Python\""
   ]
  },
  {
   "cell_type": "markdown",
   "id": "b1eb5002",
   "metadata": {},
   "source": [
    "## Accesing str elements or we also call it as Indexing\n",
    "\n",
    "str = 'Hello' \\\n",
    "            0 1 2 3 4 \\\n",
    "            H e l l o \\\n",
    "           -5-4-3-2-1 \\\n",
    "Now we will learn the indexing in the next cell."
   ]
  },
  {
   "cell_type": "code",
   "execution_count": 8,
   "id": "7225bfed",
   "metadata": {},
   "outputs": [
    {
     "data": {
      "text/plain": [
       "'H'"
      ]
     },
     "execution_count": 8,
     "metadata": {},
     "output_type": "execute_result"
    }
   ],
   "source": [
    "input_str = 'Hello'\n",
    "input_str[0]"
   ]
  },
  {
   "cell_type": "code",
   "execution_count": 5,
   "id": "4c60f13b",
   "metadata": {},
   "outputs": [
    {
     "data": {
      "text/plain": [
       "'e'"
      ]
     },
     "execution_count": 5,
     "metadata": {},
     "output_type": "execute_result"
    }
   ],
   "source": [
    "input_str[1]"
   ]
  },
  {
   "cell_type": "code",
   "execution_count": 6,
   "id": "df247129",
   "metadata": {},
   "outputs": [
    {
     "data": {
      "text/plain": [
       "'l'"
      ]
     },
     "execution_count": 6,
     "metadata": {},
     "output_type": "execute_result"
    }
   ],
   "source": [
    "input_str[2]"
   ]
  },
  {
   "cell_type": "code",
   "execution_count": 7,
   "id": "5c4d01f3",
   "metadata": {},
   "outputs": [
    {
     "data": {
      "text/plain": [
       "'l'"
      ]
     },
     "execution_count": 7,
     "metadata": {},
     "output_type": "execute_result"
    }
   ],
   "source": [
    "input_str[3]"
   ]
  },
  {
   "cell_type": "code",
   "execution_count": 9,
   "id": "c8012663",
   "metadata": {},
   "outputs": [
    {
     "data": {
      "text/plain": [
       "'o'"
      ]
     },
     "execution_count": 9,
     "metadata": {},
     "output_type": "execute_result"
    }
   ],
   "source": [
    "input_str[4]"
   ]
  },
  {
   "cell_type": "code",
   "execution_count": 10,
   "id": "2f4ad0cd",
   "metadata": {},
   "outputs": [
    {
     "ename": "NameError",
     "evalue": "name 'Ex' is not defined",
     "output_type": "error",
     "traceback": [
      "\u001b[1;31m---------------------------------------------------------------------------\u001b[0m",
      "\u001b[1;31mNameError\u001b[0m                                 Traceback (most recent call last)",
      "Cell \u001b[1;32mIn[10], line 2\u001b[0m\n\u001b[0;32m      1\u001b[0m \u001b[38;5;66;03m# We can't acess the values which are not present in the str\u001b[39;00m\n\u001b[1;32m----> 2\u001b[0m Ex \u001b[38;5;241m-\u001b[39m input_str[\u001b[38;5;241m10\u001b[39m]\n",
      "\u001b[1;31mNameError\u001b[0m: name 'Ex' is not defined"
     ]
    }
   ],
   "source": [
    "# We can't acess the values which are not present in the str\n",
    "Ex - input_str[10]"
   ]
  },
  {
   "cell_type": "code",
   "execution_count": 11,
   "id": "1d133437",
   "metadata": {},
   "outputs": [
    {
     "ename": "IndexError",
     "evalue": "string index out of range",
     "output_type": "error",
     "traceback": [
      "\u001b[1;31m---------------------------------------------------------------------------\u001b[0m",
      "\u001b[1;31mIndexError\u001b[0m                                Traceback (most recent call last)",
      "Cell \u001b[1;32mIn[11], line 1\u001b[0m\n\u001b[1;32m----> 1\u001b[0m input_str[\u001b[38;5;241m10\u001b[39m]\n",
      "\u001b[1;31mIndexError\u001b[0m: string index out of range"
     ]
    }
   ],
   "source": [
    "input_str[10]"
   ]
  },
  {
   "cell_type": "markdown",
   "id": "889e0fde",
   "metadata": {},
   "source": [
    "## Acessing Substrings"
   ]
  },
  {
   "cell_type": "markdown",
   "id": "f9f3a204",
   "metadata": {},
   "source": [
    "msg [start:end] - extract from start to end-1. \\\n",
    "msg [start:] - extract from the start to end. \\\n",
    "msg [:end] - extract from start to end-1. \\\n",
    "msg [-start:] - extract from -start(included) to end. \\\n",
    "msg [: -end] - extract from begining to end-1. \\\n",
    "\n",
    "Let's have a look at some examples to understand it better."
   ]
  },
  {
   "cell_type": "code",
   "execution_count": 12,
   "id": "705e0490",
   "metadata": {},
   "outputs": [
    {
     "name": "stdout",
     "output_type": "stream",
     "text": [
      "B\n"
     ]
    }
   ],
   "source": [
    "msg = \"Bamboozled\"\n",
    "print(msg[0:1])"
   ]
  },
  {
   "cell_type": "code",
   "execution_count": 19,
   "id": "48281e2c",
   "metadata": {},
   "outputs": [
    {
     "data": {
      "text/plain": [
       "'B'"
      ]
     },
     "execution_count": 19,
     "metadata": {},
     "output_type": "execute_result"
    }
   ],
   "source": [
    "msg[0:1]"
   ]
  },
  {
   "cell_type": "code",
   "execution_count": 18,
   "id": "9f65d97c",
   "metadata": {},
   "outputs": [],
   "source": [
    "# In output 12 we can see that when we used the 0 and 1 it only gives B as a output.\n",
    "# Thta means it's actually substracting 1 from the end position."
   ]
  },
  {
   "cell_type": "code",
   "execution_count": 20,
   "id": "a2cc93aa",
   "metadata": {},
   "outputs": [
    {
     "name": "stdout",
     "output_type": "stream",
     "text": [
      "Ba\n"
     ]
    }
   ],
   "source": [
    "print(msg[0:2])"
   ]
  },
  {
   "cell_type": "code",
   "execution_count": 21,
   "id": "9e55c82e",
   "metadata": {},
   "outputs": [
    {
     "data": {
      "text/plain": [
       "'Ba'"
      ]
     },
     "execution_count": 21,
     "metadata": {},
     "output_type": "execute_result"
    }
   ],
   "source": [
    "msg[0:2]"
   ]
  },
  {
   "cell_type": "code",
   "execution_count": 25,
   "id": "48ea0df6",
   "metadata": {},
   "outputs": [
    {
     "data": {
      "text/plain": [
       "'Ba'"
      ]
     },
     "execution_count": 25,
     "metadata": {},
     "output_type": "execute_result"
    }
   ],
   "source": [
    "msg[-10:-8]"
   ]
  },
  {
   "cell_type": "code",
   "execution_count": 26,
   "id": "ce34aa27",
   "metadata": {},
   "outputs": [
    {
     "name": "stdout",
     "output_type": "stream",
     "text": [
      "Bamboo\n"
     ]
    }
   ],
   "source": [
    "print(msg[0:6])"
   ]
  },
  {
   "cell_type": "code",
   "execution_count": 27,
   "id": "45a85354",
   "metadata": {},
   "outputs": [
    {
     "data": {
      "text/plain": [
       "'Bamboo'"
      ]
     },
     "execution_count": 27,
     "metadata": {},
     "output_type": "execute_result"
    }
   ],
   "source": [
    "msg[0:6]"
   ]
  },
  {
   "cell_type": "code",
   "execution_count": 28,
   "id": "68975ca4",
   "metadata": {},
   "outputs": [
    {
     "name": "stdout",
     "output_type": "stream",
     "text": [
      "Bamboo\n"
     ]
    }
   ],
   "source": [
    "print(msg[:6])"
   ]
  },
  {
   "cell_type": "code",
   "execution_count": 29,
   "id": "06798a9f",
   "metadata": {},
   "outputs": [
    {
     "data": {
      "text/plain": [
       "'Bamboo'"
      ]
     },
     "execution_count": 29,
     "metadata": {},
     "output_type": "execute_result"
    }
   ],
   "source": [
    "msg[:6]"
   ]
  },
  {
   "cell_type": "code",
   "execution_count": 30,
   "id": "eac4da6f",
   "metadata": {},
   "outputs": [
    {
     "name": "stdout",
     "output_type": "stream",
     "text": [
      "Bamboo\n"
     ]
    }
   ],
   "source": [
    "print(msg[-10:-4])"
   ]
  },
  {
   "cell_type": "code",
   "execution_count": 31,
   "id": "ae7b9fdf",
   "metadata": {},
   "outputs": [
    {
     "data": {
      "text/plain": [
       "'Bamboo'"
      ]
     },
     "execution_count": 31,
     "metadata": {},
     "output_type": "execute_result"
    }
   ],
   "source": [
    "msg[-10:-4]"
   ]
  },
  {
   "cell_type": "code",
   "execution_count": 32,
   "id": "f687c414",
   "metadata": {},
   "outputs": [
    {
     "name": "stdout",
     "output_type": "stream",
     "text": [
      "Bamboo\n"
     ]
    }
   ],
   "source": [
    "print(msg[:-4])"
   ]
  },
  {
   "cell_type": "code",
   "execution_count": 35,
   "id": "a82b04f9",
   "metadata": {},
   "outputs": [
    {
     "name": "stdout",
     "output_type": "stream",
     "text": [
      "boozled\n"
     ]
    }
   ],
   "source": [
    "print(msg[-7:])"
   ]
  },
  {
   "cell_type": "code",
   "execution_count": 36,
   "id": "2a757c35",
   "metadata": {},
   "outputs": [
    {
     "data": {
      "text/plain": [
       "'boozled'"
      ]
     },
     "execution_count": 36,
     "metadata": {},
     "output_type": "execute_result"
    }
   ],
   "source": [
    "msg[-7:]"
   ]
  },
  {
   "cell_type": "code",
   "execution_count": 39,
   "id": "d0f98799",
   "metadata": {},
   "outputs": [
    {
     "name": "stdout",
     "output_type": "stream",
     "text": [
      "delzoobmaB\n"
     ]
    }
   ],
   "source": [
    "# This function is used to reverse any str elemts\n",
    "print(msg[::-1])"
   ]
  },
  {
   "cell_type": "code",
   "execution_count": 40,
   "id": "05e813d6",
   "metadata": {},
   "outputs": [
    {
     "data": {
      "text/plain": [
       "'delzoobmaB'"
      ]
     },
     "execution_count": 40,
     "metadata": {},
     "output_type": "execute_result"
    }
   ],
   "source": [
    "msg[::-1]"
   ]
  },
  {
   "cell_type": "code",
   "execution_count": 41,
   "id": "b43e9061",
   "metadata": {},
   "outputs": [
    {
     "name": "stdout",
     "output_type": "stream",
     "text": [
      "Bmoze\n"
     ]
    }
   ],
   "source": [
    "# To use or slice elements of a string alternatively\n",
    "print(msg[0:10:2])\n",
    "# we are slicing elemts from index 0 to (10-1) i.e; 9 alternatively or by skipping one elements every time."
   ]
  },
  {
   "cell_type": "markdown",
   "id": "d55457cd",
   "metadata": {},
   "source": [
    "### str Properties"
   ]
  },
  {
   "cell_type": "code",
   "execution_count": 44,
   "id": "392cb711",
   "metadata": {},
   "outputs": [
    {
     "ename": "TypeError",
     "evalue": "'str' object does not support item assignment",
     "output_type": "error",
     "traceback": [
      "\u001b[1;31m---------------------------------------------------------------------------\u001b[0m",
      "\u001b[1;31mTypeError\u001b[0m                                 Traceback (most recent call last)",
      "Cell \u001b[1;32mIn[44], line 3\u001b[0m\n\u001b[0;32m      1\u001b[0m \u001b[38;5;66;03m# Strings are immutable.\u001b[39;00m\n\u001b[0;32m      2\u001b[0m S \u001b[38;5;241m=\u001b[39m \u001b[38;5;124m\"\u001b[39m\u001b[38;5;124mHello\u001b[39m\u001b[38;5;124m\"\u001b[39m\n\u001b[1;32m----> 3\u001b[0m S[\u001b[38;5;241m0\u001b[39m] \u001b[38;5;241m=\u001b[39m \u001b[38;5;124m'\u001b[39m\u001b[38;5;124mM\u001b[39m\u001b[38;5;124m'\u001b[39m\n",
      "\u001b[1;31mTypeError\u001b[0m: 'str' object does not support item assignment"
     ]
    }
   ],
   "source": [
    "# Strings are immutable.\n",
    "S = \"Hello\"\n",
    "S[0] = 'M'\n",
    "# S[0] = 'M' will give us a error as it is immutable in nature."
   ]
  },
  {
   "cell_type": "code",
   "execution_count": 49,
   "id": "1942f73f",
   "metadata": {},
   "outputs": [
    {
     "name": "stdout",
     "output_type": "stream",
     "text": [
      "My name is Amit,He loves Python\n"
     ]
    }
   ],
   "source": [
    "# Strings can be concatenated\n",
    "msg1 = \"My name is Amit\"\n",
    "msg2 = \"He loves Python\"\n",
    "msg3 = msg1+\",\"+msg2\n",
    "print(msg3)"
   ]
  },
  {
   "cell_type": "code",
   "execution_count": 50,
   "id": "0137d4c7",
   "metadata": {},
   "outputs": [
    {
     "name": "stdout",
     "output_type": "stream",
     "text": [
      "My name is AmitHe loves Python\n"
     ]
    }
   ],
   "source": [
    "# Or we can simply add by using\n",
    "msg3 = msg1+msg2\n",
    "print(msg3)"
   ]
  },
  {
   "cell_type": "code",
   "execution_count": 54,
   "id": "ad2efd17",
   "metadata": {},
   "outputs": [
    {
     "name": "stdout",
     "output_type": "stream",
     "text": [
      "AmitAmitAmitAmitAmitAmitAmitAmitAmitAmit\n"
     ]
    }
   ],
   "source": [
    "# Replication during printing\n",
    "# It means we can multiply an elemts by however times we want let's look at some example.\n",
    "print('Amit'*10)\n",
    "# one should make clear that we have to use only single quotation mark or single inverted commas while replicating any object."
   ]
  },
  {
   "cell_type": "code",
   "execution_count": 59,
   "id": "7bdae0dc",
   "metadata": {},
   "outputs": [
    {
     "name": "stdout",
     "output_type": "stream",
     "text": [
      "True\n",
      "True\n",
      "True\n",
      "True\n",
      "True\n"
     ]
    }
   ],
   "source": [
    "# Is String a Substring?\n",
    "# Let's find this out.\n",
    "input_msg = \"Hello\"\n",
    "print('e'in 'Hello')\n",
    "print('H'in 'Hello')\n",
    "print('l'in'Hello')\n",
    "print('o'in 'Hello')\n",
    "print('Hel'in 'Hello')"
   ]
  },
  {
   "cell_type": "code",
   "execution_count": 61,
   "id": "7c818ff4",
   "metadata": {},
   "outputs": [
    {
     "name": "stdout",
     "output_type": "stream",
     "text": [
      "7\n"
     ]
    }
   ],
   "source": [
    "# built-in functions in python\n",
    "msg = \"Surreal\"\n",
    "# len() fuction to find out the lenth of a str\n",
    "print(len(msg))"
   ]
  },
  {
   "cell_type": "code",
   "execution_count": 62,
   "id": "ecfb7b86",
   "metadata": {},
   "outputs": [
    {
     "name": "stdout",
     "output_type": "stream",
     "text": [
      "S\n"
     ]
    }
   ],
   "source": [
    "# min() to find out the minimun in a str\n",
    "print(min(msg))"
   ]
  },
  {
   "cell_type": "code",
   "execution_count": 63,
   "id": "cb8ce2f3",
   "metadata": {},
   "outputs": [
    {
     "name": "stdout",
     "output_type": "stream",
     "text": [
      "u\n"
     ]
    }
   ],
   "source": [
    "# max() to find out the maxium in a str\n",
    "print(max(msg))"
   ]
  },
  {
   "cell_type": "code",
   "execution_count": 64,
   "id": "6ab78fe6",
   "metadata": {},
   "outputs": [],
   "source": [
    "#### One thing to note down here in this case is we have used the max and min functions in str on words.\n",
    "# Upper case letters(Capital Letters) have lower unicode values as compared to the lower case(small letters).\n",
    "# That's the reason why we are getting getting 'S' as min and 'u'as max values."
   ]
  },
  {
   "cell_type": "markdown",
   "id": "70b8af21",
   "metadata": {},
   "source": [
    "<font color = Orange> String Operations </font>"
   ]
  },
  {
   "cell_type": "code",
   "execution_count": 65,
   "id": "91763cc8",
   "metadata": {},
   "outputs": [
    {
     "data": {
      "text/plain": [
       "7"
      ]
     },
     "execution_count": 65,
     "metadata": {},
     "output_type": "execute_result"
    }
   ],
   "source": [
    "a = 'ABCDEFG'\n",
    "len(a)"
   ]
  },
  {
   "cell_type": "code",
   "execution_count": 66,
   "id": "18c9a5f2",
   "metadata": {},
   "outputs": [
    {
     "data": {
      "text/plain": [
       "30"
      ]
     },
     "execution_count": 66,
     "metadata": {},
     "output_type": "execute_result"
    }
   ],
   "source": [
    "b = 'goti kalti mar sab aa rahe hai'\n",
    "len(b)"
   ]
  },
  {
   "cell_type": "code",
   "execution_count": 69,
   "id": "675b611e",
   "metadata": {},
   "outputs": [
    {
     "data": {
      "text/plain": [
       "'A'"
      ]
     },
     "execution_count": 69,
     "metadata": {},
     "output_type": "execute_result"
    }
   ],
   "source": [
    "# Acessing the first character\n",
    "a[0]"
   ]
  },
  {
   "cell_type": "code",
   "execution_count": 70,
   "id": "b0e0499d",
   "metadata": {},
   "outputs": [
    {
     "data": {
      "text/plain": [
       "'g'"
      ]
     },
     "execution_count": 70,
     "metadata": {},
     "output_type": "execute_result"
    }
   ],
   "source": [
    "b[0]"
   ]
  },
  {
   "cell_type": "code",
   "execution_count": 71,
   "id": "99cce4d0",
   "metadata": {},
   "outputs": [
    {
     "data": {
      "text/plain": [
       "'G'"
      ]
     },
     "execution_count": 71,
     "metadata": {},
     "output_type": "execute_result"
    }
   ],
   "source": [
    "# acessing the last character\n",
    "a[-1]"
   ]
  },
  {
   "cell_type": "code",
   "execution_count": 72,
   "id": "256fb369",
   "metadata": {},
   "outputs": [
    {
     "data": {
      "text/plain": [
       "'i'"
      ]
     },
     "execution_count": 72,
     "metadata": {},
     "output_type": "execute_result"
    }
   ],
   "source": [
    "b[-1]"
   ]
  },
  {
   "cell_type": "markdown",
   "id": "b1f0f4e0",
   "metadata": {},
   "source": [
    "<font color = Purple> Immutability </font>"
   ]
  },
  {
   "cell_type": "code",
   "execution_count": 77,
   "id": "e1108cf0",
   "metadata": {},
   "outputs": [
    {
     "ename": "NameError",
     "evalue": "name 'R' is not defined",
     "output_type": "error",
     "traceback": [
      "\u001b[1;31m---------------------------------------------------------------------------\u001b[0m",
      "\u001b[1;31mNameError\u001b[0m                                 Traceback (most recent call last)",
      "Cell \u001b[1;32mIn[77], line 3\u001b[0m\n\u001b[0;32m      1\u001b[0m \u001b[38;5;66;03m# trying to change the characters of 'a' at index 2 and 'b' as well\u001b[39;00m\n\u001b[0;32m      2\u001b[0m \u001b[38;5;66;03m# It will give as error as we know that str data types are immutable in nature\u001b[39;00m\n\u001b[1;32m----> 3\u001b[0m a[\u001b[38;5;241m2\u001b[39m] \u001b[38;5;241m=\u001b[39m R\n",
      "\u001b[1;31mNameError\u001b[0m: name 'R' is not defined"
     ]
    }
   ],
   "source": [
    "# trying to change the characters of 'a' at index 2 and 'b' as well\n",
    "# It will give as error as we know that str data types are immutable in nature\n",
    "a[2] = R"
   ]
  },
  {
   "cell_type": "code",
   "execution_count": 78,
   "id": "772619e8",
   "metadata": {},
   "outputs": [
    {
     "ename": "NameError",
     "evalue": "name 'Z' is not defined",
     "output_type": "error",
     "traceback": [
      "\u001b[1;31m---------------------------------------------------------------------------\u001b[0m",
      "\u001b[1;31mNameError\u001b[0m                                 Traceback (most recent call last)",
      "Cell \u001b[1;32mIn[78], line 1\u001b[0m\n\u001b[1;32m----> 1\u001b[0m b[\u001b[38;5;241m2\u001b[39m] \u001b[38;5;241m=\u001b[39m Z\n",
      "\u001b[1;31mNameError\u001b[0m: name 'Z' is not defined"
     ]
    }
   ],
   "source": [
    "b[2] = Z"
   ]
  },
  {
   "cell_type": "code",
   "execution_count": 79,
   "id": "f3d9a6f2",
   "metadata": {},
   "outputs": [],
   "source": [
    "# Changing the entire str will be allowed let's see the process\n",
    "a = 'badass boy'"
   ]
  },
  {
   "cell_type": "markdown",
   "id": "9a2f5301",
   "metadata": {},
   "source": [
    "`Here we can see that we are defining a new varibale as 'a'`"
   ]
  },
  {
   "cell_type": "code",
   "execution_count": 81,
   "id": "bf5d95b9",
   "metadata": {},
   "outputs": [
    {
     "name": "stdout",
     "output_type": "stream",
     "text": [
      "badass boy\n"
     ]
    }
   ],
   "source": [
    "print(a)"
   ]
  },
  {
   "cell_type": "markdown",
   "id": "b58cf2c3",
   "metadata": {},
   "source": [
    "<font color = red> # Concatation </font>"
   ]
  },
  {
   "cell_type": "code",
   "execution_count": 82,
   "id": "666276b8",
   "metadata": {},
   "outputs": [
    {
     "name": "stdout",
     "output_type": "stream",
     "text": [
      "MontyPython\n"
     ]
    }
   ],
   "source": [
    "first_Name = \"Monty\"\n",
    "second_Name = \"Python\"\n",
    "Name = first_Name  + second_Name\n",
    "print(Name)"
   ]
  },
  {
   "cell_type": "code",
   "execution_count": 87,
   "id": "9211257e",
   "metadata": {},
   "outputs": [
    {
     "name": "stdout",
     "output_type": "stream",
     "text": [
      "Monty,Python\n"
     ]
    }
   ],
   "source": [
    "# As we can see above that we just added both the variables directly to add space or commas while cancatations.\n",
    "# we use a differnt approach as follows\n",
    "print(first_Name+\",\"+second_Name)\n",
    "# Here we are adding a comma in between the first_Name and the second_Name"
   ]
  },
  {
   "cell_type": "code",
   "execution_count": 86,
   "id": "da28cac3",
   "metadata": {},
   "outputs": [
    {
     "name": "stdout",
     "output_type": "stream",
     "text": [
      "Monty Python\n"
     ]
    }
   ],
   "source": [
    "print(first_Name +\" \"+second_Name)\n",
    "# here we are adding a space between the first_Name and the second_Name"
   ]
  },
  {
   "cell_type": "code",
   "execution_count": 92,
   "id": "8fc22759",
   "metadata": {},
   "outputs": [
    {
     "name": "stdout",
     "output_type": "stream",
     "text": [
      "Dog,Barks,They can bite like hell as well.\n"
     ]
    }
   ],
   "source": [
    "# Some more edamples on cancatations\n",
    "input_1= \"Dog\"\n",
    "input_2 = \"Barks\"\n",
    "input_3 = \"They can bite like hell as well.\"\n",
    "# Now we are going to add all them three together by using a comma and tehn by a space between them.\n",
    "# We are now adding a comma while concatation first as follows\n",
    "print(input_1+\",\"+input_2+\",\"+input_3)"
   ]
  },
  {
   "cell_type": "code",
   "execution_count": 93,
   "id": "84128f90",
   "metadata": {},
   "outputs": [
    {
     "name": "stdout",
     "output_type": "stream",
     "text": [
      "Dog Barks,They can bite like hell as well.\n"
     ]
    }
   ],
   "source": [
    "# Here Now we are going to use a space at first concatation process and then a comma in the second concatation process\n",
    "print(input_1+\" \"+ input_2+\",\"+input_3)"
   ]
  },
  {
   "cell_type": "markdown",
   "id": "0d1c5fcf",
   "metadata": {},
   "source": [
    "<Font color = Violet> Typecasing </font>"
   ]
  },
  {
   "cell_type": "code",
   "execution_count": 97,
   "id": "e327710e",
   "metadata": {},
   "outputs": [
    {
     "name": "stdout",
     "output_type": "stream",
     "text": [
      "I am  26 years old\n"
     ]
    }
   ],
   "source": [
    "#typecasing using a str functions\n",
    "age = 26\n",
    "print(\"I am \"+\" \"+str(age)+\" \" +\"years old\")"
   ]
  },
  {
   "cell_type": "markdown",
   "id": "6cebf6b9",
   "metadata": {},
   "source": [
    "#<font color = Orange>In the above typecasing we can see that we have used double quotes to add space between the words followed by a + sign.</font>"
   ]
  },
  {
   "cell_type": "code",
   "execution_count": 99,
   "id": "264c5f22",
   "metadata": {},
   "outputs": [
    {
     "name": "stdout",
     "output_type": "stream",
     "text": [
      "I am 26years old\n"
     ]
    }
   ],
   "source": [
    "# The Normal typecasing can goes like this\n",
    "age = 26\n",
    "print(\"I am \"+str(age)+\"years old\")"
   ]
  },
  {
   "cell_type": "markdown",
   "id": "56f1df23",
   "metadata": {},
   "source": [
    "<font color = red> Here we can also observe that when we are using str(age) we are not doing any quotes or seperation or neither usinga any specific special characters becasue str() is an inbuilt function for python and can be treated as so.</font>"
   ]
  },
  {
   "cell_type": "code",
   "execution_count": 100,
   "id": "4056b230",
   "metadata": {},
   "outputs": [
    {
     "name": "stdout",
     "output_type": "stream",
     "text": [
      "I am  50 years old\n"
     ]
    }
   ],
   "source": [
    "# There can be more typecasing using the str() functions as well, with other normal data types like ,bool,float,hex,oct systems.\n",
    "# Let,s try to experiment new things\n",
    "age = 0x32\n",
    "print(\"I am \"+\" \"+str(age)+\" \"+\"years old\")"
   ]
  },
  {
   "cell_type": "markdown",
   "id": "15913178",
   "metadata": {},
   "source": [
    "<font color = red>Here we can see that when we used the hexadecimal system and definded age in hexadecimal system it works while we used it as a str function.</font>"
   ]
  },
  {
   "cell_type": "markdown",
   "id": "81025a0c",
   "metadata": {},
   "source": [
    "<font color = brown>Let's undertsnad and learn some of the basic data types quickly.</font> "
   ]
  },
  {
   "cell_type": "markdown",
   "id": "b1c356b7",
   "metadata": {},
   "source": [
    "_____Basic Data Types_____\n",
    "1. Int data type : int data types are generally an integer type data and can be expressed in binary, decimal, octacl and hexadecimal systems.\n",
    "-  Binary system : Binary starts with 0b or 0B (zero and lower or upper case 'B'.\n",
    "   <br>Binary system uses only two numbers i.e; 0 and 1.\n",
    "   examples are - 0b25,0B32, we can check them in coding shells later on by one.\n",
    "-  Decimal system : decimal system uses 9 numbers i.e; from 0 to 9.\n",
    "   <br> Examples - 159,832,957 etc.\n",
    "-  Octal system : The octal system starts with 0o or 0O (i.e; zero and lower or upper case 'O'.)\n",
    "   The Octal system uses only 8 numbers i.e; from 0 to 7\n",
    "   Exmaples - 0o437,0O765,0O435.\n",
    "-  Hexadecimal System : The Hexadecimal system starts with 0x or 0X(i.e; zero and upper or lower case 'X'.)\n",
    "   it uses 16 numbers for the hexadecimal system i.e; from 0 to 9 and then A=10, B=11, C=12, D=13, E=14, F=15.\n",
    "   Examples-  0X2097,0x435,0X100034 etc."
   ]
  },
  {
   "cell_type": "markdown",
   "id": "85f62e02",
   "metadata": {},
   "source": [
    "<h1 style = \"color:Blue\"> Binary System </h1>"
   ]
  },
  {
   "cell_type": "code",
   "execution_count": 106,
   "id": "8d38ae20",
   "metadata": {},
   "outputs": [
    {
     "name": "stdout",
     "output_type": "stream",
     "text": [
      "3\n"
     ]
    }
   ],
   "source": [
    "# Now we are trying to get a better vision of the int data type systems in details with examples.\n",
    "# We are starting with the binary system first.\n",
    "print(0B11)"
   ]
  },
  {
   "cell_type": "code",
   "execution_count": 107,
   "id": "dfa65840",
   "metadata": {},
   "outputs": [
    {
     "name": "stdout",
     "output_type": "stream",
     "text": [
      "17\n"
     ]
    }
   ],
   "source": [
    "print(0b10001)"
   ]
  },
  {
   "cell_type": "code",
   "execution_count": 108,
   "id": "b49fd01b",
   "metadata": {},
   "outputs": [
    {
     "name": "stdout",
     "output_type": "stream",
     "text": [
      "177\n"
     ]
    }
   ],
   "source": [
    "print(0B0010110001)"
   ]
  },
  {
   "cell_type": "markdown",
   "id": "e0d48b42",
   "metadata": {},
   "source": [
    "<font color = red>Here it can be seen clearly that we are currently using only 0 and 1 for the binary system as it works only for two numbers.</font>"
   ]
  },
  {
   "cell_type": "markdown",
   "id": "7ea9bc6e",
   "metadata": {},
   "source": [
    "<h2 style = \"color:Blue\"> Decimal System</h2>"
   ]
  },
  {
   "cell_type": "code",
   "execution_count": 110,
   "id": "c43a0a0b",
   "metadata": {},
   "outputs": [
    {
     "name": "stdout",
     "output_type": "stream",
     "text": [
      "987\n"
     ]
    }
   ],
   "source": [
    "# Now we are goint through the decimal system\n",
    "# as we have already learned that decimal system uses only numbers from 0 to 9.\n",
    "print(987)"
   ]
  },
  {
   "cell_type": "code",
   "execution_count": 111,
   "id": "eb705c6c",
   "metadata": {},
   "outputs": [
    {
     "name": "stdout",
     "output_type": "stream",
     "text": [
      "233456\n"
     ]
    }
   ],
   "source": [
    "print(233456)"
   ]
  },
  {
   "cell_type": "code",
   "execution_count": 112,
   "id": "3c6b5ef0",
   "metadata": {},
   "outputs": [
    {
     "name": "stdout",
     "output_type": "stream",
     "text": [
      "9465326734\n"
     ]
    }
   ],
   "source": [
    "print(9465326734)"
   ]
  },
  {
   "cell_type": "markdown",
   "id": "eb8b6623",
   "metadata": {},
   "source": [
    "<h3 style = color:"
   ]
  }
 ],
 "metadata": {
  "kernelspec": {
   "display_name": "Python 3 (ipykernel)",
   "language": "python",
   "name": "python3"
  },
  "language_info": {
   "codemirror_mode": {
    "name": "ipython",
    "version": 3
   },
   "file_extension": ".py",
   "mimetype": "text/x-python",
   "name": "python",
   "nbconvert_exporter": "python",
   "pygments_lexer": "ipython3",
   "version": "3.11.4"
  }
 },
 "nbformat": 4,
 "nbformat_minor": 5
}
